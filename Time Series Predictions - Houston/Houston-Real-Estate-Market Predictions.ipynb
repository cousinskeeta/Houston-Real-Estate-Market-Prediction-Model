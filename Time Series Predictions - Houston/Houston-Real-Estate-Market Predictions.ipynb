{
 "cells": [
  {
   "cell_type": "markdown",
   "metadata": {},
   "source": [
    "<center><h1>Zillow Predictions</h1></center>"
   ]
  },
  {
   "cell_type": "markdown",
   "metadata": {},
   "source": [
    "# Importing Libraries"
   ]
  },
  {
   "cell_type": "markdown",
   "metadata": {},
   "source": [
    "We will use the following libraries for this project:"
   ]
  },
  {
   "cell_type": "code",
   "execution_count": 1,
   "metadata": {},
   "outputs": [],
   "source": [
    "from statsmodels.graphics.tsaplots import plot_acf, plot_pacf\n",
    "from statsmodels.tsa.seasonal import seasonal_decompose\n",
    "from sklearn.metrics import mean_squared_error\n",
    "from sklearn.linear_model import LassoLarsCV\n",
    "import matplotlib.pyplot as plt\n",
    "%matplotlib inline\n",
    "import pandas as pd\n",
    "import numpy as np\n",
    "import warnings\n",
    "warnings.filterwarnings(\"ignore\")\n",
    "import time\n",
    "import os"
   ]
  },
  {
   "cell_type": "markdown",
   "metadata": {},
   "source": [
    "# Obtaining Data\n",
    "\n",
    "We will begin by obtaining the data needed for this project using the Pandas Library to import the 'zillow_data.csv' file saved in this repository. "
   ]
  },
  {
   "cell_type": "code",
   "execution_count": 2,
   "metadata": {},
   "outputs": [
    {
     "data": {
      "text/html": [
       "<div>\n",
       "<style scoped>\n",
       "    .dataframe tbody tr th:only-of-type {\n",
       "        vertical-align: middle;\n",
       "    }\n",
       "\n",
       "    .dataframe tbody tr th {\n",
       "        vertical-align: top;\n",
       "    }\n",
       "\n",
       "    .dataframe thead th {\n",
       "        text-align: right;\n",
       "    }\n",
       "</style>\n",
       "<table border=\"1\" class=\"dataframe\">\n",
       "  <thead>\n",
       "    <tr style=\"text-align: right;\">\n",
       "      <th></th>\n",
       "      <th>RegionID</th>\n",
       "      <th>RegionName</th>\n",
       "      <th>City</th>\n",
       "      <th>State</th>\n",
       "      <th>Metro</th>\n",
       "      <th>CountyName</th>\n",
       "      <th>SizeRank</th>\n",
       "      <th>1996-04</th>\n",
       "      <th>1996-05</th>\n",
       "      <th>1996-06</th>\n",
       "      <th>...</th>\n",
       "      <th>2017-07</th>\n",
       "      <th>2017-08</th>\n",
       "      <th>2017-09</th>\n",
       "      <th>2017-10</th>\n",
       "      <th>2017-11</th>\n",
       "      <th>2017-12</th>\n",
       "      <th>2018-01</th>\n",
       "      <th>2018-02</th>\n",
       "      <th>2018-03</th>\n",
       "      <th>2018-04</th>\n",
       "    </tr>\n",
       "  </thead>\n",
       "  <tbody>\n",
       "    <tr>\n",
       "      <th>0</th>\n",
       "      <td>84654</td>\n",
       "      <td>60657</td>\n",
       "      <td>Chicago</td>\n",
       "      <td>IL</td>\n",
       "      <td>Chicago</td>\n",
       "      <td>Cook</td>\n",
       "      <td>1</td>\n",
       "      <td>334200.0</td>\n",
       "      <td>335400.0</td>\n",
       "      <td>336500.0</td>\n",
       "      <td>...</td>\n",
       "      <td>1005500</td>\n",
       "      <td>1007500</td>\n",
       "      <td>1007800</td>\n",
       "      <td>1009600</td>\n",
       "      <td>1013300</td>\n",
       "      <td>1018700</td>\n",
       "      <td>1024400</td>\n",
       "      <td>1030700</td>\n",
       "      <td>1033800</td>\n",
       "      <td>1030600</td>\n",
       "    </tr>\n",
       "    <tr>\n",
       "      <th>1</th>\n",
       "      <td>90668</td>\n",
       "      <td>75070</td>\n",
       "      <td>McKinney</td>\n",
       "      <td>TX</td>\n",
       "      <td>Dallas-Fort Worth</td>\n",
       "      <td>Collin</td>\n",
       "      <td>2</td>\n",
       "      <td>235700.0</td>\n",
       "      <td>236900.0</td>\n",
       "      <td>236700.0</td>\n",
       "      <td>...</td>\n",
       "      <td>308000</td>\n",
       "      <td>310000</td>\n",
       "      <td>312500</td>\n",
       "      <td>314100</td>\n",
       "      <td>315000</td>\n",
       "      <td>316600</td>\n",
       "      <td>318100</td>\n",
       "      <td>319600</td>\n",
       "      <td>321100</td>\n",
       "      <td>321800</td>\n",
       "    </tr>\n",
       "    <tr>\n",
       "      <th>2</th>\n",
       "      <td>91982</td>\n",
       "      <td>77494</td>\n",
       "      <td>Katy</td>\n",
       "      <td>TX</td>\n",
       "      <td>Houston</td>\n",
       "      <td>Harris</td>\n",
       "      <td>3</td>\n",
       "      <td>210400.0</td>\n",
       "      <td>212200.0</td>\n",
       "      <td>212200.0</td>\n",
       "      <td>...</td>\n",
       "      <td>321000</td>\n",
       "      <td>320600</td>\n",
       "      <td>320200</td>\n",
       "      <td>320400</td>\n",
       "      <td>320800</td>\n",
       "      <td>321200</td>\n",
       "      <td>321200</td>\n",
       "      <td>323000</td>\n",
       "      <td>326900</td>\n",
       "      <td>329900</td>\n",
       "    </tr>\n",
       "    <tr>\n",
       "      <th>3</th>\n",
       "      <td>84616</td>\n",
       "      <td>60614</td>\n",
       "      <td>Chicago</td>\n",
       "      <td>IL</td>\n",
       "      <td>Chicago</td>\n",
       "      <td>Cook</td>\n",
       "      <td>4</td>\n",
       "      <td>498100.0</td>\n",
       "      <td>500900.0</td>\n",
       "      <td>503100.0</td>\n",
       "      <td>...</td>\n",
       "      <td>1289800</td>\n",
       "      <td>1287700</td>\n",
       "      <td>1287400</td>\n",
       "      <td>1291500</td>\n",
       "      <td>1296600</td>\n",
       "      <td>1299000</td>\n",
       "      <td>1302700</td>\n",
       "      <td>1306400</td>\n",
       "      <td>1308500</td>\n",
       "      <td>1307000</td>\n",
       "    </tr>\n",
       "    <tr>\n",
       "      <th>4</th>\n",
       "      <td>93144</td>\n",
       "      <td>79936</td>\n",
       "      <td>El Paso</td>\n",
       "      <td>TX</td>\n",
       "      <td>El Paso</td>\n",
       "      <td>El Paso</td>\n",
       "      <td>5</td>\n",
       "      <td>77300.0</td>\n",
       "      <td>77300.0</td>\n",
       "      <td>77300.0</td>\n",
       "      <td>...</td>\n",
       "      <td>119100</td>\n",
       "      <td>119400</td>\n",
       "      <td>120000</td>\n",
       "      <td>120300</td>\n",
       "      <td>120300</td>\n",
       "      <td>120300</td>\n",
       "      <td>120300</td>\n",
       "      <td>120500</td>\n",
       "      <td>121000</td>\n",
       "      <td>121500</td>\n",
       "    </tr>\n",
       "  </tbody>\n",
       "</table>\n",
       "<p>5 rows × 272 columns</p>\n",
       "</div>"
      ],
      "text/plain": [
       "   RegionID  RegionName      City State              Metro CountyName  \\\n",
       "0     84654       60657   Chicago    IL            Chicago       Cook   \n",
       "1     90668       75070  McKinney    TX  Dallas-Fort Worth     Collin   \n",
       "2     91982       77494      Katy    TX            Houston     Harris   \n",
       "3     84616       60614   Chicago    IL            Chicago       Cook   \n",
       "4     93144       79936   El Paso    TX            El Paso    El Paso   \n",
       "\n",
       "   SizeRank   1996-04   1996-05   1996-06  ...  2017-07  2017-08  2017-09  \\\n",
       "0         1  334200.0  335400.0  336500.0  ...  1005500  1007500  1007800   \n",
       "1         2  235700.0  236900.0  236700.0  ...   308000   310000   312500   \n",
       "2         3  210400.0  212200.0  212200.0  ...   321000   320600   320200   \n",
       "3         4  498100.0  500900.0  503100.0  ...  1289800  1287700  1287400   \n",
       "4         5   77300.0   77300.0   77300.0  ...   119100   119400   120000   \n",
       "\n",
       "   2017-10  2017-11  2017-12  2018-01  2018-02  2018-03  2018-04  \n",
       "0  1009600  1013300  1018700  1024400  1030700  1033800  1030600  \n",
       "1   314100   315000   316600   318100   319600   321100   321800  \n",
       "2   320400   320800   321200   321200   323000   326900   329900  \n",
       "3  1291500  1296600  1299000  1302700  1306400  1308500  1307000  \n",
       "4   120300   120300   120300   120300   120500   121000   121500  \n",
       "\n",
       "[5 rows x 272 columns]"
      ]
     },
     "execution_count": 2,
     "metadata": {},
     "output_type": "execute_result"
    }
   ],
   "source": [
    "df = pd.read_csv('zillow_data.csv')\n",
    "df.head()"
   ]
  },
  {
   "cell_type": "markdown",
   "metadata": {},
   "source": [
    "# Scrubbing Data"
   ]
  },
  {
   "cell_type": "markdown",
   "metadata": {},
   "source": [
    "Here we will scrub the data down to houston zip codes without any missing values."
   ]
  },
  {
   "cell_type": "code",
   "execution_count": 4,
   "metadata": {},
   "outputs": [],
   "source": [
    "# Defining list of dataframes for each state.\n",
    "states = df['State'].unique()\n",
    "state_df = []\n",
    "for state in states:\n",
    "    state_df.append(df[df['State']==state].copy())\n",
    "\n",
    "# Defining dataframe for Houston zipcodes \n",
    "houston = state_df[1][state_df[1]['City'] == 'Houston'].copy()\n",
    "houston.set_index(keys='RegionName',inplace=True)\n",
    "\n",
    "# Creating dataframe of zipcodes by average price and viewing top three\n",
    "houston_zips_by_mean = pd.DataFrame(houston.iloc[:, 6:-1].mean(axis=1), columns=['Mean'])\n",
    "houston_zips = houston_zips_by_mean.index \n",
    "houston_zips_by_mean.sort_values(by='Mean').head(3) \n",
    "\n",
    "# Defining list of datatframes for each Houston zipcode\n",
    "houston_zips_df = []\n",
    "for i in houston_zips[:1]:\n",
    "    z = houston[houston.index==i].drop(['RegionID', 'City', 'State', \n",
    "                                        'Metro', 'CountyName', 'SizeRank'],axis=1).melt().copy()\n",
    "    z.index = pd.to_datetime(z.variable,format=\"%Y-%m\")\n",
    "    z.drop('variable',axis=1,inplace=True)\n",
    "    \n",
    "    # Checking for null values and removing them from the Houston Zip list\n",
    "    if z.isna().sum().all()>0:\n",
    "        houston_zips.remove(i)\n",
    "        continue\n",
    "    else:\n",
    "        houston_zips_df.append(z)\n",
    "        # Saving each zipcode as separate dataframe        \n",
    "        outname = f'{i}.csv'\n",
    "        outdir = './zipcodes'\n",
    "        if not os.path.exists(outdir):\n",
    "            os.mkdir(outdir)\n",
    "        fullname = os.path.join(outdir, outname)    \n",
    "        z.to_csv(fullname)"
   ]
  },
  {
   "cell_type": "markdown",
   "metadata": {},
   "source": [
    "# Exploring Data"
   ]
  },
  {
   "cell_type": "markdown",
   "metadata": {},
   "source": [
    "Here we will load the saved dataframes and added each one into a list. We will then visualize the data, looking for trends, seasonality, and residuals using Seasonal_Decomposition. We will also look at the ACF and PACF Curves. Since we have a large number of zipcodes, we will only display the graphs for one zipcode. EDA for all other zipcodes can be found in the `'Mod-4-EDA.ipynb'` file."
   ]
  },
  {
   "cell_type": "code",
   "execution_count": 30,
   "metadata": {},
   "outputs": [],
   "source": [
    "loaded_houston_dfs = []\n",
    "for o in houston_zips[:1]:\n",
    "    loaded_zip = pd.read_csv(f'{o}.csv')\n",
    "    loaded_houston_dfs.append(loaded_zip)"
   ]
  },
  {
   "cell_type": "code",
   "execution_count": 31,
   "metadata": {},
   "outputs": [
    {
     "data": {
      "image/png": "[encoded data removed]",
      "text/plain": [
       "<Figure size 432x288 with 1 Axes>"
      ]
     },
     "metadata": {
      "needs_background": "light"
     },
     "output_type": "display_data"
    },
    {
     "data": {
      "image/png": "[encoded data removed]",
      "text/plain": [
       "<Figure size 864x576 with 4 Axes>"
      ]
     },
     "metadata": {
      "needs_background": "light"
     },
     "output_type": "display_data"
    },
    {
     "data": {
      "image/png": "[encoded data removed]",
      "text/plain": [
       "<Figure size 432x288 with 1 Axes>"
      ]
     },
     "metadata": {
      "needs_background": "light"
     },
     "output_type": "display_data"
    },
    {
     "data": {
      "image/png": "[encoded data removed]",
      "text/plain": [
       "<Figure size 432x288 with 1 Axes>"
      ]
     },
     "metadata": {
      "needs_background": "light"
     },
     "output_type": "display_data"
    }
   ],
   "source": [
    "for z in loaded_houston_dfs[:1]:\n",
    "    z.index = pd.to_datetime(z.variable,format=\"%Y-%m\")\n",
    "    z.drop('variable',axis=1,inplace=True)\n",
    "    z.plot()\n",
    "    plt.title('Zipcode: {}'.format(i))\n",
    "    plt.xlabel('Year')\n",
    "    plt.ylabel('Price')\n",
    "    plt.show();\n",
    "\n",
    "    # Applying seasonal_decompose()\n",
    "    decomposition = seasonal_decompose(z)\n",
    "    \n",
    "    # Gathering the trend, seasonality, and residuals \n",
    "    trend = decomposition.trend\n",
    "    seasonal = decomposition.seasonal\n",
    "    residual = decomposition.resid\n",
    "    \n",
    "    # Plotting gathered statistics\n",
    "    plt.figure(figsize=(12,8))\n",
    "    plt.subplot(411)\n",
    "    plt.plot(z, label='Original', color='blue')\n",
    "    plt.legend(loc='best')\n",
    "    plt.subplot(412)\n",
    "    plt.plot(trend, label='Trend', color='blue')\n",
    "    plt.legend(loc='best')\n",
    "    plt.subplot(413)\n",
    "    plt.plot(seasonal,label='Seasonality', color='blue')\n",
    "    plt.legend(loc='best')\n",
    "    plt.subplot(414)\n",
    "    plt.plot(residual, label='Residuals', color='blue')\n",
    "    plt.legend(loc='best')\n",
    "    plt.tight_layout()\n",
    "\n",
    "    # Plotting ACF and PACF Curves\n",
    "    plot_acf(z, lags=12); plt.xlim(0,24); plt.show()\n",
    "    plot_pacf(z,lags=12); plt.xlim(0,24); plt.ylim(-1,1);plt.show()"
   ]
  },
  {
   "cell_type": "markdown",
   "metadata": {},
   "source": [
    "# Modeling Data"
   ]
  },
  {
   "cell_type": "markdown",
   "metadata": {},
   "source": [
    "Here we can load the saved dataframes and added each one into a list. We will create a baseline model, generate forecasts on the test period, store forecasts and MSE for each zipcode. We will also view the average MSE.\n",
    "\n",
    "Since we have a large number of zipcodes, we will only display the forecasts for one zipcode. Forecasts for all other zipcodes can be found in the `'Mod-4-Forecasts.ipynb'` file.\n",
    "\n",
    "We will start by creating a baseline model for one zipcode. We will use a test period of the last twelve months."
   ]
  },
  {
   "cell_type": "code",
   "execution_count": 32,
   "metadata": {},
   "outputs": [
    {
     "name": "stdout",
     "output_type": "stream",
     "text": [
      "Time: 0.7176198959350586 seconds.\n"
     ]
    }
   ],
   "source": [
    "test_period = 12\n",
    "zip_dfs = []\n",
    "models = []\n",
    "start = time.time()\n",
    "\n",
    "for e in houston_zips_df[:1]:\n",
    "    ## month and day features\n",
    "    e['Month'] = e.index.month\n",
    "    e['Day'] = e.index.dayofyear\n",
    "    e['Year'] = e.index.year - e.index.year.min()\n",
    "    date_features = ['Month','Year']\n",
    "    ## month and day polynomials\n",
    "    polynomial_terms = [2,3]\n",
    "    for feature in date_features:\n",
    "        for i in polynomial_terms:\n",
    "            e[feature+'**'+str(i)] = e[feature]**i\n",
    "    ## previous values and polynomials\n",
    "    previous_values_range = 36\n",
    "    for i in range(1,previous_values_range):\n",
    "        e['Previous'+str(i)] = e['value'].shift(i).bfill()\n",
    "        for j in polynomial_terms:\n",
    "            e['Previous'+str(i)+'**'+str(j)] = (e['value'].shift(i).bfill())**j\n",
    "    ## fit model\n",
    "    from sklearn.preprocessing import StandardScaler\n",
    "    scaler = StandardScaler()\n",
    "    X = scaler.fit_transform((e.drop(['value'],axis=1)[:-test_period]))\n",
    "    y = e['value'][:-test_period]\n",
    "    reg = LassoLarsCV(cv=5).fit(X,y)\n",
    "    zip_dfs.append(e)\n",
    "    models.append(reg)\n",
    "print('Time:', time.time()-start, 'seconds.')"
   ]
  },
  {
   "cell_type": "markdown",
   "metadata": {},
   "source": [
    "Now that we have the baseline model: \n",
    "- generate forecasts on the test period, \n",
    "- store forecast dataframes, \n",
    "- save the MSE for each model, \n",
    "- and view average MSE across all zipcodes. "
   ]
  },
  {
   "cell_type": "code",
   "execution_count": 33,
   "metadata": {},
   "outputs": [
    {
     "name": "stdout",
     "output_type": "stream",
     "text": [
      "Time: 0.29036998748779297 seconds.\n",
      "Average MSE: 18970490.894618418\n"
     ]
    }
   ],
   "source": [
    "forecast_dfs = []\n",
    "start = time.time()\n",
    "mses = []\n",
    "for model, df_,z in zip(models, zip_dfs, houston_zips):\n",
    "    actual = df_[-test_period:]['value']\n",
    "    forecast = []\n",
    "    ## create and populate forecast dataframe\n",
    "    forecast_df = df_.copy()\n",
    "    for datetime, date in zip(df_.index[-test_period:], range(len(df_)-test_period, len(df_))):\n",
    "        values = []\n",
    "        ## add datetime components\n",
    "        values.append(datetime.month)\n",
    "        values.append(datetime.dayofyear)\n",
    "        values.append(datetime.year - (df_.index.year.min()))\n",
    "        ## add polynomial terms of datetime components\n",
    "        for feature in date_features:\n",
    "            for i in polynomial_terms:\n",
    "                values.append((forecast_df[feature][date])**i)\n",
    "        ## add previous values and polynomial terms of previous values\n",
    "        for i in range(1,previous_values_range):\n",
    "            values.append(forecast_df['value'][date-i])\n",
    "            for j in polynomial_terms:\n",
    "                values.append((forecast_df['value'][date-i])**j)\n",
    "        ## make prediction on current datetime\n",
    "        X = scaler.transform(np.array(values).reshape(1,-1))\n",
    "        forecast_ = model.predict(X)[0]\n",
    "        forecast.append(forecast_)\n",
    "        ## append prediction to start of values array\n",
    "        values.insert(0, forecast_)\n",
    "        ## set forecast row in dataframe\n",
    "        forecast_df.loc[datetime] = values\n",
    "    forecast_dfs.append(forecast)\n",
    "    # Saving the forecast dataframes\n",
    "    mses.append(np.abs(mean_squared_error(actual, forecast)))\n",
    "print('Time:', time.time()-start, 'seconds.')\n",
    "print('Average MSE:', np.average(mses))"
   ]
  },
  {
   "cell_type": "markdown",
   "metadata": {},
   "source": [
    "- Here we will plot predictions vs actual values for each zipcode, along with the MSE."
   ]
  },
  {
   "cell_type": "code",
   "execution_count": 34,
   "metadata": {},
   "outputs": [
    {
     "data": {
      "image/png": "[encoded data removed]",
      "text/plain": [
       "<Figure size 432x288 with 1 Axes>"
      ]
     },
     "metadata": {
      "needs_background": "light"
     },
     "output_type": "display_data"
    },
    {
     "name": "stdout",
     "output_type": "stream",
     "text": [
      "Time: 0.4666879177093506 seconds.\n"
     ]
    }
   ],
   "source": [
    "for df_, y_hat, mSe in zip(zip_dfs, forecast_dfs, mses):\n",
    "    plt.plot(df_[-test_period:].index, df_[-test_period:]['value'])\n",
    "    plt.plot(df_[-test_period:].index, y_hat)\n",
    "    plt.legend(['Actual', 'Forecast'])\n",
    "    plt.title(str(z)+' - MSE: '  + f'{mSe}')\n",
    "    plt.show();\n",
    "print('Time:', time.time()-start, 'seconds.')"
   ]
  },
  {
   "cell_type": "markdown",
   "metadata": {},
   "source": [
    "## View features selected"
   ]
  },
  {
   "cell_type": "markdown",
   "metadata": {},
   "source": [
    "- Below we can view the selected features for each zipcode's models."
   ]
  },
  {
   "cell_type": "code",
   "execution_count": 35,
   "metadata": {},
   "outputs": [
    {
     "name": "stdout",
     "output_type": "stream",
     "text": [
      "77084\n",
      "          Feature   Coefficient\n",
      "0           Month     36.538715\n",
      "1        Month**3     67.859470\n",
      "2         Year**3    325.992669\n",
      "3       Previous1  30869.317991\n",
      "4    Previous3**3   6533.913803\n",
      "5    Previous6**2   1741.452970\n",
      "6       Previous8    182.218367\n",
      "7    Previous8**2   1405.685467\n",
      "8   Previous13**3    835.970435\n",
      "9      Previous19    762.423680\n",
      "10  Previous19**3    200.164205\n",
      "11  Previous23**3      5.108732\n",
      "12  Previous24**3    330.187678\n",
      "13     Previous25    672.896767\n",
      "14  Previous25**3    715.604126\n",
      "15  Previous28**3     52.901401\n",
      "16  Previous29**3    493.950981\n",
      "17     Previous34    578.987673\n",
      "--------------------------------\n",
      "Time: 0.4791109561920166 seconds.\n"
     ]
    }
   ],
   "source": [
    "for i,z in zip(models,houston_zips): \n",
    "    selected_features = pd.DataFrame()\n",
    "    selected_features['Feature'] = zip_dfs[0].drop('value',axis=1).columns[i.coef_>0]\n",
    "    selected_features['Coefficient'] = i.coef_[i.coef_>0]\n",
    "    selected_features.sort_values('Coefficient')\n",
    "    print(z)\n",
    "    print(selected_features)\n",
    "    print('--------------------------------')\n",
    "print('Time:', time.time()-start, 'seconds.')"
   ]
  },
  {
   "cell_type": "markdown",
   "metadata": {},
   "source": [
    "## Predicting Future Prices and Fitting the Model to Entire Dataset"
   ]
  },
  {
   "cell_type": "code",
   "execution_count": 36,
   "metadata": {},
   "outputs": [
    {
     "name": "stdout",
     "output_type": "stream",
     "text": [
      "Forecasting prices for zipcode : 77084\n",
      "Time: 5.90245795249939 seconds.\n"
     ]
    }
   ],
   "source": [
    "start = time.time()\n",
    "todays = []\n",
    "days = []\n",
    "futures = []\n",
    "\n",
    "# datetime = pd.to_datetime('2018-05-01',format=\"%Y-%m-%d\")\n",
    "for df_,zzz in zip(zip_dfs,houston_zips):\n",
    "    print(f'Forecasting prices for zipcode : {zzz}')\n",
    "    tomorrows = []\n",
    "    date_times_ = []\n",
    "    todays.append(df_['value'][-1])\n",
    "    df___s = pd.DataFrame(columns=df_.columns)\n",
    "    for datetime, date in zip(pd.Series([i + pd.offsets.BMonthBegin() for i in pd.date_range('2018-04-1', freq='3M', periods=11)]), \n",
    "                              range(len(df_.values[-1]),len(df_)+12)):\n",
    "        nxt_month_date = len(df_)\n",
    "        ## fit final model to entire dataset\n",
    "        X = scaler.transform(df_.drop(['value'],axis=1))\n",
    "        y = df_['value']       \n",
    "        model = LassoLarsCV(cv=5).fit(X, y)\n",
    "        values = []\n",
    "        ## add datetime components\n",
    "        values.append(datetime.month)\n",
    "        values.append(datetime.dayofyear)\n",
    "        values.append(datetime.year - (df_.index.year.min()))\n",
    "        ## add polynomial terms of datetime components\n",
    "        for feature in date_features:\n",
    "            for i in polynomial_terms:\n",
    "                values.append((df_[feature][date])**i)\n",
    "        ## add previous values and polynomial terms of previous values\n",
    "        for i in range(1,previous_values_range):\n",
    "            values.append(df_['value'][date-i])\n",
    "            for j in polynomial_terms:\n",
    "                values.append((df_['value'][date-i])**j)\n",
    "        ## make prediction on current datetime\n",
    "        forecast = model.predict(np.array(values).reshape(1,-1))[0]\n",
    "        new_vals = values.insert(0,forecast)\n",
    "        date_times_.append(datetime)\n",
    "        tomorrows.append(forecast)\n",
    "        df__ = pd.DataFrame(np.array(values).reshape(1,-1),columns=df_.columns,index=[datetime])\n",
    "        df___s = df___s.append(df__.loc[datetime])\n",
    "        df_ = df_.append(df___s.loc[datetime],ignore_index=False)\n",
    "        date_times_.append(datetime)\n",
    "        tomorrows.append(forecast)\n",
    "    days.append(date_times_)\n",
    "    futures.append(tomorrows)\n",
    "print('Time:', time.time()-start, 'seconds.')"
   ]
  },
  {
   "cell_type": "markdown",
   "metadata": {},
   "source": [
    "## Importing All Predictions and Results"
   ]
  },
  {
   "cell_type": "markdown",
   "metadata": {},
   "source": [
    "Here we can load the saved dataframes and view the results of our baseline models, the predicted forecasts. The results below are based on the predictions made in the 'Mod-4-Forecasts.ipynb' notebook."
   ]
  },
  {
   "cell_type": "code",
   "execution_count": 37,
   "metadata": {},
   "outputs": [],
   "source": [
    "predictions = pd.read_csv('Predictions.csv',index_col='Zip')\n",
    "results = pd.read_csv('results',index_col='Zip')\n",
    "results2 = pd.read_csv('results2',index_col='Zip')\n",
    "results3 = pd.read_csv('results3',index_col='Zip')\n",
    "results4 = pd.read_csv('results4',index_col='Zip')"
   ]
  },
  {
   "cell_type": "code",
   "execution_count": 38,
   "metadata": {},
   "outputs": [
    {
     "name": "stdout",
     "output_type": "stream",
     "text": [
      "Predictions Preview:\n"
     ]
    },
    {
     "data": {
      "text/html": [
       "<div>\n",
       "<style scoped>\n",
       "    .dataframe tbody tr th:only-of-type {\n",
       "        vertical-align: middle;\n",
       "    }\n",
       "\n",
       "    .dataframe tbody tr th {\n",
       "        vertical-align: top;\n",
       "    }\n",
       "\n",
       "    .dataframe thead th {\n",
       "        text-align: right;\n",
       "    }\n",
       "</style>\n",
       "<table border=\"1\" class=\"dataframe\">\n",
       "  <thead>\n",
       "    <tr style=\"text-align: right;\">\n",
       "      <th></th>\n",
       "      <th>This Month</th>\n",
       "      <th>ROI by 2018-05-01</th>\n",
       "      <th>ROI by 2018-08-01</th>\n",
       "      <th>ROI by 2018-11-01</th>\n",
       "      <th>ROI by 2019-02-01</th>\n",
       "      <th>ROI by 2019-05-01</th>\n",
       "      <th>ROI by 2019-08-01</th>\n",
       "      <th>ROI by 2019-11-01</th>\n",
       "      <th>ROI by 2020-02-03</th>\n",
       "      <th>ROI by 2020-05-01</th>\n",
       "      <th>ROI by 2020-08-03</th>\n",
       "      <th>ROI by 2020-11-02</th>\n",
       "    </tr>\n",
       "    <tr>\n",
       "      <th>Zip</th>\n",
       "      <th></th>\n",
       "      <th></th>\n",
       "      <th></th>\n",
       "      <th></th>\n",
       "      <th></th>\n",
       "      <th></th>\n",
       "      <th></th>\n",
       "      <th></th>\n",
       "      <th></th>\n",
       "      <th></th>\n",
       "      <th></th>\n",
       "      <th></th>\n",
       "    </tr>\n",
       "  </thead>\n",
       "  <tbody>\n",
       "    <tr>\n",
       "      <th>77084</th>\n",
       "      <td>164300.0</td>\n",
       "      <td>-84551.619835</td>\n",
       "      <td>-84697.647766</td>\n",
       "      <td>-84860.606036</td>\n",
       "      <td>-85132.987297</td>\n",
       "      <td>-85109.759674</td>\n",
       "      <td>-85272.959507</td>\n",
       "      <td>-85132.42502</td>\n",
       "      <td>-85202.351409</td>\n",
       "      <td>-84798.242907</td>\n",
       "      <td>-84703.874175</td>\n",
       "      <td>-84407.127731</td>\n",
       "    </tr>\n",
       "  </tbody>\n",
       "</table>\n",
       "</div>"
      ],
      "text/plain": [
       "       This Month  ROI by 2018-05-01  ROI by 2018-08-01  ROI by 2018-11-01  \\\n",
       "Zip                                                                          \n",
       "77084    164300.0      -84551.619835      -84697.647766      -84860.606036   \n",
       "\n",
       "       ROI by 2019-02-01  ROI by 2019-05-01  ROI by 2019-08-01  \\\n",
       "Zip                                                              \n",
       "77084      -85132.987297      -85109.759674      -85272.959507   \n",
       "\n",
       "       ROI by 2019-11-01  ROI by 2020-02-03  ROI by 2020-05-01  \\\n",
       "Zip                                                              \n",
       "77084       -85132.42502      -85202.351409      -84798.242907   \n",
       "\n",
       "       ROI by 2020-08-03  ROI by 2020-11-02  \n",
       "Zip                                          \n",
       "77084      -84703.874175      -84407.127731  "
      ]
     },
     "metadata": {},
     "output_type": "display_data"
    },
    {
     "name": "stdout",
     "output_type": "stream",
     "text": [
      "Current Price\n"
     ]
    },
    {
     "data": {
      "text/html": [
       "<div>\n",
       "<style scoped>\n",
       "    .dataframe tbody tr th:only-of-type {\n",
       "        vertical-align: middle;\n",
       "    }\n",
       "\n",
       "    .dataframe tbody tr th {\n",
       "        vertical-align: top;\n",
       "    }\n",
       "\n",
       "    .dataframe thead th {\n",
       "        text-align: right;\n",
       "    }\n",
       "</style>\n",
       "<table border=\"1\" class=\"dataframe\">\n",
       "  <thead>\n",
       "    <tr style=\"text-align: right;\">\n",
       "      <th></th>\n",
       "      <th>Current</th>\n",
       "    </tr>\n",
       "    <tr>\n",
       "      <th>Zip</th>\n",
       "      <th></th>\n",
       "    </tr>\n",
       "  </thead>\n",
       "  <tbody>\n",
       "    <tr>\n",
       "      <th>77084</th>\n",
       "      <td>164300.0</td>\n",
       "    </tr>\n",
       "  </tbody>\n",
       "</table>\n",
       "</div>"
      ],
      "text/plain": [
       "        Current\n",
       "Zip            \n",
       "77084  164300.0"
      ]
     },
     "metadata": {},
     "output_type": "display_data"
    },
    {
     "name": "stdout",
     "output_type": "stream",
     "text": [
      "By Long Term ROI: \n"
     ]
    },
    {
     "data": {
      "text/html": [
       "<div>\n",
       "<style scoped>\n",
       "    .dataframe tbody tr th:only-of-type {\n",
       "        vertical-align: middle;\n",
       "    }\n",
       "\n",
       "    .dataframe tbody tr th {\n",
       "        vertical-align: top;\n",
       "    }\n",
       "\n",
       "    .dataframe thead th {\n",
       "        text-align: right;\n",
       "    }\n",
       "</style>\n",
       "<table border=\"1\" class=\"dataframe\">\n",
       "  <thead>\n",
       "    <tr style=\"text-align: right;\">\n",
       "      <th></th>\n",
       "      <th>ROI by 2018-05-01</th>\n",
       "      <th>ROI by 2018-08-01</th>\n",
       "      <th>ROI by 2018-11-01</th>\n",
       "      <th>ROI by 2019-02-01</th>\n",
       "      <th>ROI by 2019-05-01</th>\n",
       "      <th>ROI by 2019-08-01</th>\n",
       "      <th>ROI by 2019-11-01</th>\n",
       "      <th>ROI by 2020-02-03</th>\n",
       "      <th>ROI by 2020-05-01</th>\n",
       "      <th>ROI by 2020-08-03</th>\n",
       "      <th>ROI by 2020-11-02</th>\n",
       "    </tr>\n",
       "    <tr>\n",
       "      <th>Zip</th>\n",
       "      <th></th>\n",
       "      <th></th>\n",
       "      <th></th>\n",
       "      <th></th>\n",
       "      <th></th>\n",
       "      <th></th>\n",
       "      <th></th>\n",
       "      <th></th>\n",
       "      <th></th>\n",
       "      <th></th>\n",
       "      <th></th>\n",
       "    </tr>\n",
       "  </thead>\n",
       "  <tbody>\n",
       "    <tr>\n",
       "      <th>77084</th>\n",
       "      <td>-84551.619835</td>\n",
       "      <td>-84697.647766</td>\n",
       "      <td>-84860.606036</td>\n",
       "      <td>-85132.987297</td>\n",
       "      <td>-85109.759674</td>\n",
       "      <td>-85272.959507</td>\n",
       "      <td>-85132.42502</td>\n",
       "      <td>-85202.351409</td>\n",
       "      <td>-84798.242907</td>\n",
       "      <td>-84703.874175</td>\n",
       "      <td>-84407.127731</td>\n",
       "    </tr>\n",
       "  </tbody>\n",
       "</table>\n",
       "</div>"
      ],
      "text/plain": [
       "       ROI by 2018-05-01  ROI by 2018-08-01  ROI by 2018-11-01  \\\n",
       "Zip                                                              \n",
       "77084      -84551.619835      -84697.647766      -84860.606036   \n",
       "\n",
       "       ROI by 2019-02-01  ROI by 2019-05-01  ROI by 2019-08-01  \\\n",
       "Zip                                                              \n",
       "77084      -85132.987297      -85109.759674      -85272.959507   \n",
       "\n",
       "       ROI by 2019-11-01  ROI by 2020-02-03  ROI by 2020-05-01  \\\n",
       "Zip                                                              \n",
       "77084       -85132.42502      -85202.351409      -84798.242907   \n",
       "\n",
       "       ROI by 2020-08-03  ROI by 2020-11-02  \n",
       "Zip                                          \n",
       "77084      -84703.874175      -84407.127731  "
      ]
     },
     "metadata": {},
     "output_type": "display_data"
    },
    {
     "data": {
      "text/html": [
       "<div>\n",
       "<style scoped>\n",
       "    .dataframe tbody tr th:only-of-type {\n",
       "        vertical-align: middle;\n",
       "    }\n",
       "\n",
       "    .dataframe tbody tr th {\n",
       "        vertical-align: top;\n",
       "    }\n",
       "\n",
       "    .dataframe thead th {\n",
       "        text-align: right;\n",
       "    }\n",
       "</style>\n",
       "<table border=\"1\" class=\"dataframe\">\n",
       "  <thead>\n",
       "    <tr style=\"text-align: right;\">\n",
       "      <th></th>\n",
       "      <th>LongTerm</th>\n",
       "    </tr>\n",
       "    <tr>\n",
       "      <th>Zip</th>\n",
       "      <th></th>\n",
       "    </tr>\n",
       "  </thead>\n",
       "  <tbody>\n",
       "    <tr>\n",
       "      <th>77084</th>\n",
       "      <td>-84897.236487</td>\n",
       "    </tr>\n",
       "  </tbody>\n",
       "</table>\n",
       "</div>"
      ],
      "text/plain": [
       "           LongTerm\n",
       "Zip                \n",
       "77084 -84897.236487"
      ]
     },
     "metadata": {},
     "output_type": "display_data"
    },
    {
     "name": "stdout",
     "output_type": "stream",
     "text": [
      "By Mid Term ROI: \n"
     ]
    },
    {
     "data": {
      "text/html": [
       "<div>\n",
       "<style scoped>\n",
       "    .dataframe tbody tr th:only-of-type {\n",
       "        vertical-align: middle;\n",
       "    }\n",
       "\n",
       "    .dataframe tbody tr th {\n",
       "        vertical-align: top;\n",
       "    }\n",
       "\n",
       "    .dataframe thead th {\n",
       "        text-align: right;\n",
       "    }\n",
       "</style>\n",
       "<table border=\"1\" class=\"dataframe\">\n",
       "  <thead>\n",
       "    <tr style=\"text-align: right;\">\n",
       "      <th></th>\n",
       "      <th>ROI by 2018-05-01</th>\n",
       "      <th>ROI by 2018-08-01</th>\n",
       "      <th>ROI by 2018-11-01</th>\n",
       "      <th>ROI by 2019-02-01</th>\n",
       "      <th>ROI by 2019-05-01</th>\n",
       "      <th>ROI by 2019-08-01</th>\n",
       "      <th>ROI by 2019-11-01</th>\n",
       "    </tr>\n",
       "    <tr>\n",
       "      <th>Zip</th>\n",
       "      <th></th>\n",
       "      <th></th>\n",
       "      <th></th>\n",
       "      <th></th>\n",
       "      <th></th>\n",
       "      <th></th>\n",
       "      <th></th>\n",
       "    </tr>\n",
       "  </thead>\n",
       "  <tbody>\n",
       "    <tr>\n",
       "      <th>77084</th>\n",
       "      <td>-84551.619835</td>\n",
       "      <td>-84697.647766</td>\n",
       "      <td>-84860.606036</td>\n",
       "      <td>-85132.987297</td>\n",
       "      <td>-85109.759674</td>\n",
       "      <td>-85272.959507</td>\n",
       "      <td>-85132.42502</td>\n",
       "    </tr>\n",
       "  </tbody>\n",
       "</table>\n",
       "</div>"
      ],
      "text/plain": [
       "       ROI by 2018-05-01  ROI by 2018-08-01  ROI by 2018-11-01  \\\n",
       "Zip                                                              \n",
       "77084      -84551.619835      -84697.647766      -84860.606036   \n",
       "\n",
       "       ROI by 2019-02-01  ROI by 2019-05-01  ROI by 2019-08-01  \\\n",
       "Zip                                                              \n",
       "77084      -85132.987297      -85109.759674      -85272.959507   \n",
       "\n",
       "       ROI by 2019-11-01  \n",
       "Zip                       \n",
       "77084       -85132.42502  "
      ]
     },
     "metadata": {},
     "output_type": "display_data"
    },
    {
     "data": {
      "text/html": [
       "<div>\n",
       "<style scoped>\n",
       "    .dataframe tbody tr th:only-of-type {\n",
       "        vertical-align: middle;\n",
       "    }\n",
       "\n",
       "    .dataframe tbody tr th {\n",
       "        vertical-align: top;\n",
       "    }\n",
       "\n",
       "    .dataframe thead th {\n",
       "        text-align: right;\n",
       "    }\n",
       "</style>\n",
       "<table border=\"1\" class=\"dataframe\">\n",
       "  <thead>\n",
       "    <tr style=\"text-align: right;\">\n",
       "      <th></th>\n",
       "      <th>MidTerm</th>\n",
       "    </tr>\n",
       "    <tr>\n",
       "      <th>Zip</th>\n",
       "      <th></th>\n",
       "    </tr>\n",
       "  </thead>\n",
       "  <tbody>\n",
       "    <tr>\n",
       "      <th>77084</th>\n",
       "      <td>-84965.429305</td>\n",
       "    </tr>\n",
       "  </tbody>\n",
       "</table>\n",
       "</div>"
      ],
      "text/plain": [
       "            MidTerm\n",
       "Zip                \n",
       "77084 -84965.429305"
      ]
     },
     "metadata": {},
     "output_type": "display_data"
    },
    {
     "name": "stdout",
     "output_type": "stream",
     "text": [
      "By Short Term ROI\n"
     ]
    },
    {
     "data": {
      "text/html": [
       "<div>\n",
       "<style scoped>\n",
       "    .dataframe tbody tr th:only-of-type {\n",
       "        vertical-align: middle;\n",
       "    }\n",
       "\n",
       "    .dataframe tbody tr th {\n",
       "        vertical-align: top;\n",
       "    }\n",
       "\n",
       "    .dataframe thead th {\n",
       "        text-align: right;\n",
       "    }\n",
       "</style>\n",
       "<table border=\"1\" class=\"dataframe\">\n",
       "  <thead>\n",
       "    <tr style=\"text-align: right;\">\n",
       "      <th></th>\n",
       "      <th>ROI by 2018-05-01</th>\n",
       "      <th>ROI by 2018-08-01</th>\n",
       "      <th>ROI by 2018-11-01</th>\n",
       "    </tr>\n",
       "    <tr>\n",
       "      <th>Zip</th>\n",
       "      <th></th>\n",
       "      <th></th>\n",
       "      <th></th>\n",
       "    </tr>\n",
       "  </thead>\n",
       "  <tbody>\n",
       "    <tr>\n",
       "      <th>77084</th>\n",
       "      <td>-84551.619835</td>\n",
       "      <td>-84697.647766</td>\n",
       "      <td>-84860.606036</td>\n",
       "    </tr>\n",
       "  </tbody>\n",
       "</table>\n",
       "</div>"
      ],
      "text/plain": [
       "       ROI by 2018-05-01  ROI by 2018-08-01  ROI by 2018-11-01\n",
       "Zip                                                           \n",
       "77084      -84551.619835      -84697.647766      -84860.606036"
      ]
     },
     "metadata": {},
     "output_type": "display_data"
    },
    {
     "data": {
      "text/html": [
       "<div>\n",
       "<style scoped>\n",
       "    .dataframe tbody tr th:only-of-type {\n",
       "        vertical-align: middle;\n",
       "    }\n",
       "\n",
       "    .dataframe tbody tr th {\n",
       "        vertical-align: top;\n",
       "    }\n",
       "\n",
       "    .dataframe thead th {\n",
       "        text-align: right;\n",
       "    }\n",
       "</style>\n",
       "<table border=\"1\" class=\"dataframe\">\n",
       "  <thead>\n",
       "    <tr style=\"text-align: right;\">\n",
       "      <th></th>\n",
       "      <th>ShortTerm</th>\n",
       "    </tr>\n",
       "    <tr>\n",
       "      <th>Zip</th>\n",
       "      <th></th>\n",
       "    </tr>\n",
       "  </thead>\n",
       "  <tbody>\n",
       "    <tr>\n",
       "      <th>77084</th>\n",
       "      <td>-84703.291212</td>\n",
       "    </tr>\n",
       "  </tbody>\n",
       "</table>\n",
       "</div>"
      ],
      "text/plain": [
       "          ShortTerm\n",
       "Zip                \n",
       "77084 -84703.291212"
      ]
     },
     "metadata": {},
     "output_type": "display_data"
    }
   ],
   "source": [
    "print('Predictions Preview:')\n",
    "display(predictions.head(1))\n",
    "\n",
    "print('Current Price')\n",
    "display(results.head(1))\n",
    "\n",
    "print('By Long Term ROI: ')\n",
    "display(predictions[predictions.columns[1:]].head(1))\n",
    "display(results2.head(1))\n",
    "\n",
    "print('By Mid Term ROI: ')\n",
    "display(predictions[predictions.columns[1:-4]].head(1))\n",
    "display(results3.head(1))\n",
    "\n",
    "print('By Short Term ROI')\n",
    "display(predictions[predictions.columns[1:-8]].head(1))\n",
    "display(results4.head(1))"
   ]
  },
  {
   "cell_type": "markdown",
   "metadata": {},
   "source": [
    "# Results"
   ]
  },
  {
   "cell_type": "code",
   "execution_count": 39,
   "metadata": {
    "scrolled": false
   },
   "outputs": [
    {
     "name": "stdout",
     "output_type": "stream",
     "text": [
      "Combined Results Preview: \n"
     ]
    },
    {
     "data": {
      "text/html": [
       "<div>\n",
       "<style scoped>\n",
       "    .dataframe tbody tr th:only-of-type {\n",
       "        vertical-align: middle;\n",
       "    }\n",
       "\n",
       "    .dataframe tbody tr th {\n",
       "        vertical-align: top;\n",
       "    }\n",
       "\n",
       "    .dataframe thead th {\n",
       "        text-align: right;\n",
       "    }\n",
       "</style>\n",
       "<table border=\"1\" class=\"dataframe\">\n",
       "  <thead>\n",
       "    <tr style=\"text-align: right;\">\n",
       "      <th></th>\n",
       "      <th>Current</th>\n",
       "      <th>LongTerm</th>\n",
       "      <th>MidTerm</th>\n",
       "      <th>ShortTerm</th>\n",
       "    </tr>\n",
       "    <tr>\n",
       "      <th>Zip</th>\n",
       "      <th></th>\n",
       "      <th></th>\n",
       "      <th></th>\n",
       "      <th></th>\n",
       "    </tr>\n",
       "  </thead>\n",
       "  <tbody>\n",
       "    <tr>\n",
       "      <th>77084</th>\n",
       "      <td>164300.0</td>\n",
       "      <td>-84897.236487</td>\n",
       "      <td>-84965.429305</td>\n",
       "      <td>-84703.291212</td>\n",
       "    </tr>\n",
       "    <tr>\n",
       "      <th>77036</th>\n",
       "      <td>189800.0</td>\n",
       "      <td>-110397.236487</td>\n",
       "      <td>-110465.429305</td>\n",
       "      <td>-110203.291212</td>\n",
       "    </tr>\n",
       "    <tr>\n",
       "      <th>77077</th>\n",
       "      <td>315900.0</td>\n",
       "      <td>-236497.236487</td>\n",
       "      <td>-236565.429305</td>\n",
       "      <td>-236303.291212</td>\n",
       "    </tr>\n",
       "  </tbody>\n",
       "</table>\n",
       "</div>"
      ],
      "text/plain": [
       "        Current       LongTerm        MidTerm      ShortTerm\n",
       "Zip                                                         \n",
       "77084  164300.0  -84897.236487  -84965.429305  -84703.291212\n",
       "77036  189800.0 -110397.236487 -110465.429305 -110203.291212\n",
       "77077  315900.0 -236497.236487 -236565.429305 -236303.291212"
      ]
     },
     "metadata": {},
     "output_type": "display_data"
    },
    {
     "name": "stdout",
     "output_type": "stream",
     "text": [
      "Top 5 Predictions Where to Buy for Short Term ROI:\n"
     ]
    },
    {
     "data": {
      "text/html": [
       "<div>\n",
       "<style scoped>\n",
       "    .dataframe tbody tr th:only-of-type {\n",
       "        vertical-align: middle;\n",
       "    }\n",
       "\n",
       "    .dataframe tbody tr th {\n",
       "        vertical-align: top;\n",
       "    }\n",
       "\n",
       "    .dataframe thead th {\n",
       "        text-align: right;\n",
       "    }\n",
       "</style>\n",
       "<table border=\"1\" class=\"dataframe\">\n",
       "  <thead>\n",
       "    <tr style=\"text-align: right;\">\n",
       "      <th></th>\n",
       "      <th>Current</th>\n",
       "      <th>LongTerm</th>\n",
       "      <th>MidTerm</th>\n",
       "      <th>ShortTerm</th>\n",
       "    </tr>\n",
       "    <tr>\n",
       "      <th>Zip</th>\n",
       "      <th></th>\n",
       "      <th></th>\n",
       "      <th></th>\n",
       "      <th></th>\n",
       "    </tr>\n",
       "  </thead>\n",
       "  <tbody>\n",
       "    <tr>\n",
       "      <th>77028</th>\n",
       "      <td>81400.0</td>\n",
       "      <td>-1997.236487</td>\n",
       "      <td>-2065.429305</td>\n",
       "      <td>-1803.291212</td>\n",
       "    </tr>\n",
       "    <tr>\n",
       "      <th>77033</th>\n",
       "      <td>88400.0</td>\n",
       "      <td>-8997.236487</td>\n",
       "      <td>-9065.429305</td>\n",
       "      <td>-8803.291212</td>\n",
       "    </tr>\n",
       "    <tr>\n",
       "      <th>77029</th>\n",
       "      <td>91500.0</td>\n",
       "      <td>-12097.236487</td>\n",
       "      <td>-12165.429305</td>\n",
       "      <td>-11903.291212</td>\n",
       "    </tr>\n",
       "    <tr>\n",
       "      <th>77051</th>\n",
       "      <td>96900.0</td>\n",
       "      <td>-17497.236487</td>\n",
       "      <td>-17565.429305</td>\n",
       "      <td>-17303.291212</td>\n",
       "    </tr>\n",
       "    <tr>\n",
       "      <th>77078</th>\n",
       "      <td>99400.0</td>\n",
       "      <td>-19997.236487</td>\n",
       "      <td>-20065.429305</td>\n",
       "      <td>-19803.291212</td>\n",
       "    </tr>\n",
       "  </tbody>\n",
       "</table>\n",
       "</div>"
      ],
      "text/plain": [
       "       Current      LongTerm       MidTerm     ShortTerm\n",
       "Zip                                                     \n",
       "77028  81400.0  -1997.236487  -2065.429305  -1803.291212\n",
       "77033  88400.0  -8997.236487  -9065.429305  -8803.291212\n",
       "77029  91500.0 -12097.236487 -12165.429305 -11903.291212\n",
       "77051  96900.0 -17497.236487 -17565.429305 -17303.291212\n",
       "77078  99400.0 -19997.236487 -20065.429305 -19803.291212"
      ]
     },
     "metadata": {},
     "output_type": "display_data"
    },
    {
     "name": "stdout",
     "output_type": "stream",
     "text": [
      "Top 5 Predictions Where to Buy for Mid Term ROI:\n"
     ]
    },
    {
     "data": {
      "text/html": [
       "<div>\n",
       "<style scoped>\n",
       "    .dataframe tbody tr th:only-of-type {\n",
       "        vertical-align: middle;\n",
       "    }\n",
       "\n",
       "    .dataframe tbody tr th {\n",
       "        vertical-align: top;\n",
       "    }\n",
       "\n",
       "    .dataframe thead th {\n",
       "        text-align: right;\n",
       "    }\n",
       "</style>\n",
       "<table border=\"1\" class=\"dataframe\">\n",
       "  <thead>\n",
       "    <tr style=\"text-align: right;\">\n",
       "      <th></th>\n",
       "      <th>Current</th>\n",
       "      <th>LongTerm</th>\n",
       "      <th>MidTerm</th>\n",
       "      <th>ShortTerm</th>\n",
       "    </tr>\n",
       "    <tr>\n",
       "      <th>Zip</th>\n",
       "      <th></th>\n",
       "      <th></th>\n",
       "      <th></th>\n",
       "      <th></th>\n",
       "    </tr>\n",
       "  </thead>\n",
       "  <tbody>\n",
       "    <tr>\n",
       "      <th>77028</th>\n",
       "      <td>81400.0</td>\n",
       "      <td>-1997.236487</td>\n",
       "      <td>-2065.429305</td>\n",
       "      <td>-1803.291212</td>\n",
       "    </tr>\n",
       "    <tr>\n",
       "      <th>77033</th>\n",
       "      <td>88400.0</td>\n",
       "      <td>-8997.236487</td>\n",
       "      <td>-9065.429305</td>\n",
       "      <td>-8803.291212</td>\n",
       "    </tr>\n",
       "    <tr>\n",
       "      <th>77029</th>\n",
       "      <td>91500.0</td>\n",
       "      <td>-12097.236487</td>\n",
       "      <td>-12165.429305</td>\n",
       "      <td>-11903.291212</td>\n",
       "    </tr>\n",
       "    <tr>\n",
       "      <th>77051</th>\n",
       "      <td>96900.0</td>\n",
       "      <td>-17497.236487</td>\n",
       "      <td>-17565.429305</td>\n",
       "      <td>-17303.291212</td>\n",
       "    </tr>\n",
       "    <tr>\n",
       "      <th>77078</th>\n",
       "      <td>99400.0</td>\n",
       "      <td>-19997.236487</td>\n",
       "      <td>-20065.429305</td>\n",
       "      <td>-19803.291212</td>\n",
       "    </tr>\n",
       "  </tbody>\n",
       "</table>\n",
       "</div>"
      ],
      "text/plain": [
       "       Current      LongTerm       MidTerm     ShortTerm\n",
       "Zip                                                     \n",
       "77028  81400.0  -1997.236487  -2065.429305  -1803.291212\n",
       "77033  88400.0  -8997.236487  -9065.429305  -8803.291212\n",
       "77029  91500.0 -12097.236487 -12165.429305 -11903.291212\n",
       "77051  96900.0 -17497.236487 -17565.429305 -17303.291212\n",
       "77078  99400.0 -19997.236487 -20065.429305 -19803.291212"
      ]
     },
     "metadata": {},
     "output_type": "display_data"
    },
    {
     "name": "stdout",
     "output_type": "stream",
     "text": [
      "Top 5 Predictions Where to Buy for Long Term ROI:\n"
     ]
    },
    {
     "data": {
      "text/html": [
       "<div>\n",
       "<style scoped>\n",
       "    .dataframe tbody tr th:only-of-type {\n",
       "        vertical-align: middle;\n",
       "    }\n",
       "\n",
       "    .dataframe tbody tr th {\n",
       "        vertical-align: top;\n",
       "    }\n",
       "\n",
       "    .dataframe thead th {\n",
       "        text-align: right;\n",
       "    }\n",
       "</style>\n",
       "<table border=\"1\" class=\"dataframe\">\n",
       "  <thead>\n",
       "    <tr style=\"text-align: right;\">\n",
       "      <th></th>\n",
       "      <th>Current</th>\n",
       "      <th>LongTerm</th>\n",
       "      <th>MidTerm</th>\n",
       "      <th>ShortTerm</th>\n",
       "    </tr>\n",
       "    <tr>\n",
       "      <th>Zip</th>\n",
       "      <th></th>\n",
       "      <th></th>\n",
       "      <th></th>\n",
       "      <th></th>\n",
       "    </tr>\n",
       "  </thead>\n",
       "  <tbody>\n",
       "    <tr>\n",
       "      <th>77028</th>\n",
       "      <td>81400.0</td>\n",
       "      <td>-1997.236487</td>\n",
       "      <td>-2065.429305</td>\n",
       "      <td>-1803.291212</td>\n",
       "    </tr>\n",
       "    <tr>\n",
       "      <th>77033</th>\n",
       "      <td>88400.0</td>\n",
       "      <td>-8997.236487</td>\n",
       "      <td>-9065.429305</td>\n",
       "      <td>-8803.291212</td>\n",
       "    </tr>\n",
       "    <tr>\n",
       "      <th>77029</th>\n",
       "      <td>91500.0</td>\n",
       "      <td>-12097.236487</td>\n",
       "      <td>-12165.429305</td>\n",
       "      <td>-11903.291212</td>\n",
       "    </tr>\n",
       "    <tr>\n",
       "      <th>77051</th>\n",
       "      <td>96900.0</td>\n",
       "      <td>-17497.236487</td>\n",
       "      <td>-17565.429305</td>\n",
       "      <td>-17303.291212</td>\n",
       "    </tr>\n",
       "    <tr>\n",
       "      <th>77078</th>\n",
       "      <td>99400.0</td>\n",
       "      <td>-19997.236487</td>\n",
       "      <td>-20065.429305</td>\n",
       "      <td>-19803.291212</td>\n",
       "    </tr>\n",
       "  </tbody>\n",
       "</table>\n",
       "</div>"
      ],
      "text/plain": [
       "       Current      LongTerm       MidTerm     ShortTerm\n",
       "Zip                                                     \n",
       "77028  81400.0  -1997.236487  -2065.429305  -1803.291212\n",
       "77033  88400.0  -8997.236487  -9065.429305  -8803.291212\n",
       "77029  91500.0 -12097.236487 -12165.429305 -11903.291212\n",
       "77051  96900.0 -17497.236487 -17565.429305 -17303.291212\n",
       "77078  99400.0 -19997.236487 -20065.429305 -19803.291212"
      ]
     },
     "metadata": {},
     "output_type": "display_data"
    },
    {
     "name": "stdout",
     "output_type": "stream",
     "text": [
      "Top 5 Cheapest Zips# Summary:\n"
     ]
    },
    {
     "data": {
      "text/html": [
       "<div>\n",
       "<style scoped>\n",
       "    .dataframe tbody tr th:only-of-type {\n",
       "        vertical-align: middle;\n",
       "    }\n",
       "\n",
       "    .dataframe tbody tr th {\n",
       "        vertical-align: top;\n",
       "    }\n",
       "\n",
       "    .dataframe thead th {\n",
       "        text-align: right;\n",
       "    }\n",
       "</style>\n",
       "<table border=\"1\" class=\"dataframe\">\n",
       "  <thead>\n",
       "    <tr style=\"text-align: right;\">\n",
       "      <th></th>\n",
       "      <th>Current</th>\n",
       "      <th>LongTerm</th>\n",
       "      <th>MidTerm</th>\n",
       "      <th>ShortTerm</th>\n",
       "    </tr>\n",
       "    <tr>\n",
       "      <th>Zip</th>\n",
       "      <th></th>\n",
       "      <th></th>\n",
       "      <th></th>\n",
       "      <th></th>\n",
       "    </tr>\n",
       "  </thead>\n",
       "  <tbody>\n",
       "    <tr>\n",
       "      <th>77028</th>\n",
       "      <td>81400.0</td>\n",
       "      <td>-1997.236487</td>\n",
       "      <td>-2065.429305</td>\n",
       "      <td>-1803.291212</td>\n",
       "    </tr>\n",
       "    <tr>\n",
       "      <th>77033</th>\n",
       "      <td>88400.0</td>\n",
       "      <td>-8997.236487</td>\n",
       "      <td>-9065.429305</td>\n",
       "      <td>-8803.291212</td>\n",
       "    </tr>\n",
       "    <tr>\n",
       "      <th>77029</th>\n",
       "      <td>91500.0</td>\n",
       "      <td>-12097.236487</td>\n",
       "      <td>-12165.429305</td>\n",
       "      <td>-11903.291212</td>\n",
       "    </tr>\n",
       "    <tr>\n",
       "      <th>77051</th>\n",
       "      <td>96900.0</td>\n",
       "      <td>-17497.236487</td>\n",
       "      <td>-17565.429305</td>\n",
       "      <td>-17303.291212</td>\n",
       "    </tr>\n",
       "    <tr>\n",
       "      <th>77078</th>\n",
       "      <td>99400.0</td>\n",
       "      <td>-19997.236487</td>\n",
       "      <td>-20065.429305</td>\n",
       "      <td>-19803.291212</td>\n",
       "    </tr>\n",
       "  </tbody>\n",
       "</table>\n",
       "</div>"
      ],
      "text/plain": [
       "       Current      LongTerm       MidTerm     ShortTerm\n",
       "Zip                                                     \n",
       "77028  81400.0  -1997.236487  -2065.429305  -1803.291212\n",
       "77033  88400.0  -8997.236487  -9065.429305  -8803.291212\n",
       "77029  91500.0 -12097.236487 -12165.429305 -11903.291212\n",
       "77051  96900.0 -17497.236487 -17565.429305 -17303.291212\n",
       "77078  99400.0 -19997.236487 -20065.429305 -19803.291212"
      ]
     },
     "metadata": {},
     "output_type": "display_data"
    },
    {
     "name": "stdout",
     "output_type": "stream",
     "text": [
      "Time: 0.04251813888549805 seconds.\n"
     ]
    }
   ],
   "source": [
    "start = time.time() \n",
    "comb = pd.read_csv('Combined_Results.csv',index_col='Zip')\n",
    "\n",
    "print('Combined Results Preview: ')\n",
    "display(comb.head(3))\n",
    "\n",
    "print('Top 5 Predictions Where to Buy for Short Term ROI:')\n",
    "top_5_houston = comb.sort_values(by='ShortTerm', ascending=False).copy()\n",
    "display(top_5_houston.head(5))\n",
    "\n",
    "print('Top 5 Predictions Where to Buy for Mid Term ROI:')\n",
    "top_5_houston2 = comb.sort_values(by='MidTerm', ascending=False).copy()\n",
    "display(top_5_houston2.head(5))\n",
    "\n",
    "print('Top 5 Predictions Where to Buy for Long Term ROI:')\n",
    "top_5_houston3 = comb.sort_values(by='LongTerm', ascending=False).copy()\n",
    "display(top_5_houston3.head(5))\n",
    "\n",
    "\n",
    "print('Top 5 Cheapest Zips# Summary:')\n",
    "top_5_houston4 = comb.sort_values(by=['Current'], ascending=True).copy()\n",
    "display(top_5_houston4.head(5))\n",
    "\n",
    "\n",
    "print('Time:', time.time()-start, 'seconds.')"
   ]
  },
  {
   "cell_type": "markdown",
   "metadata": {},
   "source": [
    "# Visualizing Results"
   ]
  },
  {
   "cell_type": "code",
   "execution_count": 40,
   "metadata": {},
   "outputs": [
    {
     "data": {
      "image/png": "[encoded data removed]",
      "text/plain": [
       "<Figure size 1152x144 with 1 Axes>"
      ]
     },
     "metadata": {
      "needs_background": "light"
     },
     "output_type": "display_data"
    },
    {
     "data": {
      "image/png": "[encoded data removed]",
      "text/plain": [
       "<Figure size 1152x144 with 1 Axes>"
      ]
     },
     "metadata": {
      "needs_background": "light"
     },
     "output_type": "display_data"
    },
    {
     "data": {
      "image/png": "[encoded data removed]",
      "text/plain": [
       "<Figure size 1152x144 with 1 Axes>"
      ]
     },
     "metadata": {
      "needs_background": "light"
     },
     "output_type": "display_data"
    },
    {
     "data": {
      "image/png": "[encoded data removed]",
      "text/plain": [
       "<Figure size 1152x144 with 1 Axes>"
      ]
     },
     "metadata": {
      "needs_background": "light"
     },
     "output_type": "display_data"
    },
    {
     "data": {
      "image/png": "[encoded data removed]",
      "text/plain": [
       "<Figure size 1152x144 with 1 Axes>"
      ]
     },
     "metadata": {
      "needs_background": "light"
     },
     "output_type": "display_data"
    }
   ],
   "source": [
    "for i in list(top_5_houston.index[:5]):\n",
    "    graph_zip = predictions[predictions.index == i].copy().melt()\n",
    "    graph_zip.drop('variable',axis=1,inplace=True)\n",
    "    graph_zip.drop([0],inplace=True)\n",
    "    \n",
    "    labels = list(predictions[predictions.index == i].copy().melt().drop([0]).variable)\n",
    "    date_labels = [datetime.strptime(q[7:], '%Y-%m-%d').date() for q in labels]\n",
    "    graph_zip.index = date_labels\n",
    "     \n",
    "    fig,ax = plt.subplots(nrows=1, ncols=1)\n",
    "    x = list(graph_zip.index)\n",
    "    y = list(graph_zip.value)\n",
    "    ax.annotate('Max Loss: $'+str(round(min(y),2)),(x[5],min(y)))\n",
    "    ax.annotate('Min Loss: $'+str(round(max(y),2)),(x[-1],max(y)))\n",
    "\n",
    "    graph_zip.plot(figsize=(16, 2),ax=ax)\n",
    "    plt.title(f'ROI in {i} over time')\n",
    "    plt.ylabel('Price Change')\n",
    "    plt.xlabel('Periods (3-month Intervals)')\n",
    "\n",
    "    plt.show();\n"
   ]
  },
  {
   "cell_type": "code",
   "execution_count": null,
   "metadata": {},
   "outputs": [],
   "source": []
  }
 ],
 "metadata": {
  "kernelspec": {
   "display_name": "Python 3",
   "language": "python",
   "name": "python3"
  },
  "language_info": {
   "codemirror_mode": {
    "name": "ipython",
    "version": 3
   },
   "file_extension": ".py",
   "mimetype": "text/x-python",
   "name": "python",
   "nbconvert_exporter": "python",
   "pygments_lexer": "ipython3",
   "version": "3.7.3"
  }
 },
 "nbformat": 4,
 "nbformat_minor": 2
}
